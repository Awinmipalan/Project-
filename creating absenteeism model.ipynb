{
 "cells": [
  {
   "cell_type": "code",
   "execution_count": 8,
   "id": "5d29f3f1",
   "metadata": {
    "scrolled": true
   },
   "outputs": [
    {
     "name": "stdout",
     "output_type": "stream",
     "text": [
      "Mean Squared Error: 0.31748527657937986\n",
      "Coefficients: [ 1.04310942e+00  1.74513182e-15  8.63929704e-01  7.82558094e-01\n",
      " -2.33445950e-04 -3.62270788e-02  2.25309687e-03 -1.45621373e-03\n",
      "  1.35928186e-02  7.85242144e-03  4.09295757e-02  3.55325809e-02\n",
      "  2.01365346e-02 -1.90441685e-02]\n"
     ]
    }
   ],
   "source": [
    "import pandas as pd\n",
    "from sklearn.model_selection import train_test_split\n",
    "from sklearn.linear_model import LinearRegression\n",
    "from sklearn.metrics import mean_squared_error\n",
    "\n",
    "# Load your dataset, assuming it's in a CSV file named 'absenteeism_data.csv'\n",
    "data = pd.read_csv('C:\\\\Users\\\\DELL\\\\Documents\\\\train.csv')\n",
    "\n",
    "# Assuming 'absent_hours' is the target variable you want to predict\n",
    "X = data[['Reason_1', 'Reason_2','Reason_3','Reason_4','Month Value','Day of the Week','Transportation Expense','Distance to Work','Age','Daily Work Load Average','Body Mass Index','Education','Children','Pets']]\n",
    "y = data['absent']\n",
    "\n",
    "# Split the data into training and testing sets\n",
    "X_train, X_test, y_train, y_test = train_test_split(X, y, test_size=0.2, random_state=42)\n",
    "\n",
    "# Initialize and train the linear regression model\n",
    "model = LinearRegression()\n",
    "model.fit(X_train, y_train)\n",
    "\n",
    "# Make predictions on the test set\n",
    "y_pred = model.predict(X_test)\n",
    "\n",
    "# Evaluate the model using Mean Squared Error (MSE)\n",
    "mse = mean_squared_error(y_test, y_pred)\n",
    "print(\"Mean Squared Error:\", mse)\n",
    "\n",
    "# You can also print the coefficients to see the importance of each feature\n",
    "print(\"Coefficients:\", model.coef_)\n"
   ]
  },
  {
   "cell_type": "code",
   "execution_count": 22,
   "id": "47feacdf",
   "metadata": {},
   "outputs": [
    {
     "name": "stdout",
     "output_type": "stream",
     "text": [
      "Accuracy: 0.625\n",
      "              precision    recall  f1-score   support\n",
      "\n",
      "           0       0.00      0.00      0.00         2\n",
      "           1       0.71      0.83      0.77         6\n",
      "\n",
      "    accuracy                           0.62         8\n",
      "   macro avg       0.36      0.42      0.38         8\n",
      "weighted avg       0.54      0.62      0.58         8\n",
      "\n"
     ]
    }
   ],
   "source": [
    "import pandas as pd\n",
    "from sklearn.model_selection import train_test_split\n",
    "from sklearn.linear_model import LogisticRegression\n",
    "from sklearn.metrics import accuracy_score, classification_report\n",
    "\n",
    "# Load your dataset, assuming it's in a CSV file named 'late_data.csv'\n",
    "data = pd.read_csv('C:\\\\Users\\\\DELL\\\\Documents\\\\train.csv')\n",
    "\n",
    "# Assuming 'late' is the target variable you want to predict\n",
    "X = data[['Reason_1', 'Reason_2','Reason_3','Reason_4','Month Value','Day of the Week','Transportation Expense','Distance to Work','Age','Daily Work Load Average','Body Mass Index','Education','Children','Pets']]\n",
    "y = data['absent']\n",
    "\n",
    "# Split the data into training and testing sets\n",
    "X_train, X_test, y_train, y_test = train_test_split(X, y, test_size=0.2, random_state=42)\n",
    "\n",
    "# Initialize and train the logistic regression model\n",
    "model = LogisticRegression(max_iter=100000)\n",
    "model.fit(X_train, y_train)\n",
    "\n",
    "# Make predictions on the test set\n",
    "y_pred = model.predict(X_test)\n",
    "\n",
    "# Evaluate the model\n",
    "accuracy = accuracy_score(y_test, y_pred)\n",
    "print(\"Accuracy:\", accuracy)\n",
    "\n",
    "# You can also print classification report for more detailed evaluation\n",
    "print(classification_report(y_test, y_pred))"
   ]
  },
  {
   "cell_type": "code",
   "execution_count": 21,
   "id": "10fbba73",
   "metadata": {},
   "outputs": [
    {
     "name": "stdout",
     "output_type": "stream",
     "text": [
      "Cross-validation scores: [0.5        0.625      0.42857143 0.14285714 0.57142857]\n",
      "Mean CV score: 0.45357142857142857\n",
      "Standard deviation of CV scores: 0.16887986310766984\n"
     ]
    }
   ],
   "source": [
    "import pandas as pd\n",
    "from sklearn.model_selection import cross_val_score\n",
    "from sklearn.linear_model import LogisticRegression\n",
    "\n",
    "# Load your dataset, assuming it's in a CSV file named 'late_data.csv'\n",
    "data = pd.read_csv('C:\\\\Users\\\\DELL\\\\Documents\\\\train.csv')\n",
    "\n",
    "# Assuming 'late' is the target variable you want to predict\n",
    "X = data[['Reason_1', 'Reason_2','Reason_3','Reason_4','Month Value','Day of the Week','Transportation Expense','Distance to Work','Age','Daily Work Load Average','Body Mass Index','Education','Children','Pets']]\n",
    "y = data['absent']\n",
    "\n",
    "# Initialize the logistic regression model\n",
    "model = LogisticRegression(max_iter=100000)\n",
    "\n",
    "# Perform cross-validation with 5 folds\n",
    "# Change the 'cv' parameter if you want a different number of folds\n",
    "scores = cross_val_score(model, X, y, cv=5)\n",
    "\n",
    "# Print the cross-validation scores\n",
    "print(\"Cross-validation scores:\", scores)\n",
    "\n",
    "# Print the mean and standard deviation of the cross-validation scores\n",
    "print(\"Mean CV score:\", scores.mean())\n",
    "print(\"Standard deviation of CV scores:\", scores.std())\n"
   ]
  },
  {
   "cell_type": "code",
   "execution_count": 20,
   "id": "62195d12",
   "metadata": {},
   "outputs": [
    {
     "name": "stdout",
     "output_type": "stream",
     "text": [
      "Accuracy: 0.625\n",
      "              precision    recall  f1-score   support\n",
      "\n",
      "           0       0.00      0.00      0.00         2\n",
      "           1       0.71      0.83      0.77         6\n",
      "\n",
      "    accuracy                           0.62         8\n",
      "   macro avg       0.36      0.42      0.38         8\n",
      "weighted avg       0.54      0.62      0.58         8\n",
      "\n"
     ]
    }
   ],
   "source": [
    "import pandas as pd\n",
    "from sklearn.model_selection import train_test_split\n",
    "from imblearn.under_sampling import RandomUnderSampler\n",
    "from sklearn.linear_model import LogisticRegression\n",
    "from sklearn.metrics import accuracy_score, classification_report\n",
    "\n",
    "# Load your dataset, assuming it's in a CSV file named 'late_data.csv'\n",
    "data = pd.read_csv('C:\\\\Users\\\\DELL\\\\Documents\\\\train.csv')\n",
    "\n",
    "# Assuming 'late' is the target variable you want to predict\n",
    "X = data[['Reason_1', 'Reason_2','Reason_3','Reason_4','Month Value','Day of the Week','Transportation Expense','Distance to Work','Age','Daily Work Load Average','Body Mass Index','Education','Children','Pets']]\n",
    "y = data['absent']\n",
    "\n",
    "# Split the data into training and testing sets\n",
    "X_train, X_test, y_train, y_test = train_test_split(X, y, test_size=0.2, random_state=42)\n",
    "\n",
    "# Initialize RandomUnderSampler for undersampling\n",
    "under_sampler = RandomUnderSampler(random_state=42)\n",
    "\n",
    "# Perform undersampling on the training data only\n",
    "X_train_undersampled, y_train_undersampled = under_sampler.fit_resample(X_train, y_train)\n",
    "\n",
    "# Initialize and train the logistic regression model\n",
    "model = LogisticRegression(max_iter=100000)\n",
    "model.fit(X_train_undersampled, y_train_undersampled)\n",
    "\n",
    "# Make predictions on the test set\n",
    "y_pred = model.predict(X_test)\n",
    "\n",
    "# Evaluate the model\n",
    "accuracy = accuracy_score(y_test, y_pred)\n",
    "print(\"Accuracy:\", accuracy)\n",
    "\n",
    "# Print classification report for more detailed evaluation\n",
    "print(classification_report(y_test, y_pred))\n"
   ]
  },
  {
   "cell_type": "code",
   "execution_count": 19,
   "id": "55423734",
   "metadata": {},
   "outputs": [
    {
     "name": "stdout",
     "output_type": "stream",
     "text": [
      "Accuracy: 0.625\n",
      "              precision    recall  f1-score   support\n",
      "\n",
      "           0       0.00      0.00      0.00         2\n",
      "           1       0.71      0.83      0.77         6\n",
      "\n",
      "    accuracy                           0.62         8\n",
      "   macro avg       0.36      0.42      0.38         8\n",
      "weighted avg       0.54      0.62      0.58         8\n",
      "\n"
     ]
    }
   ],
   "source": [
    "import pandas as pd\n",
    "from sklearn.model_selection import train_test_split\n",
    "from imblearn.over_sampling import SMOTE\n",
    "from sklearn.linear_model import LogisticRegression\n",
    "from sklearn.metrics import accuracy_score, classification_report\n",
    "\n",
    "# Load your dataset, assuming it's in a CSV file named 'late_data.csv'\n",
    "data = pd.read_csv('C:\\\\Users\\\\DELL\\\\Documents\\\\train.csv')\n",
    "\n",
    "# Assuming 'late' is the target variable you want to predict\n",
    "X = data[['Reason_1', 'Reason_2','Reason_3','Reason_4','Month Value','Day of the Week','Transportation Expense','Distance to Work','Age','Daily Work Load Average','Body Mass Index','Education','Children','Pets']]\n",
    "y = data['absent']\n",
    "\n",
    "# Split the data into training and testing sets\n",
    "X_train, X_test, y_train, y_test = train_test_split(X, y, test_size=0.2, random_state=42)\n",
    "\n",
    "# Initialize SMOTE for oversampling\n",
    "smote = SMOTE(random_state=42)\n",
    "\n",
    "# Perform oversampling on the training data only\n",
    "X_train_oversampled, y_train_oversampled = smote.fit_resample(X_train, y_train)\n",
    "\n",
    "# Initialize and train the logistic regression model\n",
    "model = LogisticRegression(max_iter=100000)  # Increase max_iter to 1000 or higher\n",
    "model.fit(X_train_oversampled, y_train_oversampled)\n",
    "\n",
    "# Make predictions on the test set\n",
    "y_pred = model.predict(X_test)\n",
    "\n",
    "# Evaluate the model\n",
    "accuracy = accuracy_score(y_test, y_pred)\n",
    "print(\"Accuracy:\", accuracy)\n",
    "\n",
    "# Print classification report for more detailed evaluation\n",
    "print(classification_report(y_test, y_pred))\n"
   ]
  },
  {
   "cell_type": "code",
   "execution_count": null,
   "id": "e7ddc696",
   "metadata": {},
   "outputs": [],
   "source": []
  },
  {
   "cell_type": "code",
   "execution_count": null,
   "id": "bd07009c",
   "metadata": {},
   "outputs": [],
   "source": []
  }
 ],
 "metadata": {
  "kernelspec": {
   "display_name": "Python 3 (ipykernel)",
   "language": "python",
   "name": "python3"
  },
  "language_info": {
   "codemirror_mode": {
    "name": "ipython",
    "version": 3
   },
   "file_extension": ".py",
   "mimetype": "text/x-python",
   "name": "python",
   "nbconvert_exporter": "python",
   "pygments_lexer": "ipython3",
   "version": "3.11.5"
  }
 },
 "nbformat": 4,
 "nbformat_minor": 5
}
